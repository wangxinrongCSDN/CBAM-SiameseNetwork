{
 "cells": [
  {
   "cell_type": "code",
   "execution_count": 1,
   "metadata": {},
   "outputs": [],
   "source": [
    "import torchvision\n",
    "import torchvision.datasets as dataset\n",
    "import torchvision.transforms as transforms\n",
    "from torch.utils.data import DataLoader, Dataset\n",
    "import matplotlib.pyplot as plt\n",
    "import torchvision.utils\n",
    "import numpy as np\n",
    "import random\n",
    "from PIL import Image\n",
    "import torch\n",
    "from torch.autograd import Variable\n",
    "import PIL.ImageOps\n",
    "import torch.nn as nn\n",
    "from torch import optim\n",
    "import torch.nn.functional as F\n",
    "import pandas as pd\n",
    "from torch.autograd import Variable\n",
    "import tensorflow as tf\n",
    "from finally_SiameseUtilCBAM100 import *\n",
    "\n",
    "\n",
    "# 加载\n",
    "net = SiameseNetwork()\n",
    "net.load_state_dict(torch.load(\"The train.siamese100.ph\"))\n",
    "net.eval()\n",
    "\n",
    "siamese_dataset_4d = SiameseNetworkTest(file_path =\"./A01_test_new100.pt\",\n",
    "                                             target_path =\"./A01_test22_one_hot_label.pt\",\n",
    "                                             transform=None,target_transform=None)\n",
    "test_dataloader= DataLoader(siamese_dataset_4d, num_workers=0, batch_size=1, shuffle=False)\n",
    "df = pd.DataFrame(columns=['Label','Similarity'])"
   ]
  },
  {
   "cell_type": "markdown",
   "id": "d14f6beb",
   "metadata": {},
   "source": [
    "查看每个样本相似度"
   ]
  },
  {
   "cell_type": "code",
   "execution_count": 3,
   "id": "bd3f0040",
   "metadata": {},
   "outputs": [
    {
     "name": "stdout",
     "output_type": "stream",
     "text": [
      "     Label  Similarity\n",
      "124    0.0    0.999998\n",
      "94     2.0    0.978015\n",
      "91     2.0    0.975519\n",
      "253    0.0    0.973383\n",
      "77     3.0    0.973182\n",
      "..     ...         ...\n",
      "227    3.0    0.824739\n",
      "265    0.0    0.821629\n",
      "46     3.0    0.820052\n",
      "256    3.0    0.812873\n",
      "199    3.0    0.797725\n",
      "\n",
      "[288 rows x 2 columns]\n"
     ]
    }
   ],
   "source": [
    "total = []\n",
    "test_correct = []\n",
    "\n",
    "for idx, data in enumerate(test_dataloader,0):\n",
    "    x0, x1, target = data\n",
    "    output1, output2 = net(x0, x1)\n",
    "    euclidean_distance = F.pairwise_distance(output1, output2)\n",
    "    similarity = 1 - euclidean_distance.item()\n",
    "    # imshow(torchvision.utils.make_grid(concatenated), 'Similarity: {:.2f}'.format(similarity))\n",
    "    df.loc[idx] = [target.item(), similarity]\n",
    "df = df.sort_values(by=['Similarity'], ascending=False)\n",
    "export_csv = df.to_csv('result.csv', index=None, header=True)\n",
    "\n",
    "print(df)"
   ]
  },
  {
   "cell_type": "markdown",
   "id": "465e6930",
   "metadata": {},
   "source": [
    "查看模型在总体288对样本的分类准确率"
   ]
  },
  {
   "cell_type": "code",
   "execution_count": 6,
   "id": "8ce80a06",
   "metadata": {},
   "outputs": [
    {
     "name": "stdout",
     "output_type": "stream",
     "text": [
      "Accuracy of the Siamese Network on the 4-classes test average: 89 %\n"
     ]
    }
   ],
   "source": [
    "class_correct = list(0. for idx in range(4))\n",
    "\n",
    "test_loss = 0\n",
    "counter = []\n",
    "accuracy_history = []\n",
    "loss_history = []\n",
    "iteration_number = 0\n",
    "classnum = 4\n",
    "target_num = torch.zeros((1,classnum))\n",
    "predict_num = torch.zeros((1,classnum))\n",
    "acc_num = torch.zeros((1,classnum))\n",
    "train_correct = 0\n",
    "total  = 0\n",
    "train_loss = []\n",
    "train_accuracy = []\n",
    "num_epochs = 50\n",
    "correct = 0\n",
    "total = 0\n",
    "criterion = ContrastiveLoss()\n",
    "classnum = 4\n",
    "target_num = torch.zeros((1,classnum))\n",
    "predict_num = torch.zeros((1,classnum))\n",
    "acc_num = torch.zeros((1,classnum))\n",
    "\n",
    "\n",
    "for epoch in range(0, Config.train_number_epochs):\n",
    "    for idx, data in enumerate(test_dataloader,0):\n",
    "        x0, x1, target = data\n",
    "        output1, output2 = net(x0, x1)\n",
    "        output = output1-output2\n",
    "        \n",
    "        _, predicted = torch.max(output.data, 1)\n",
    "        total += target.size(0)\n",
    "        correct += (predicted == target).sum().item()\n",
    "\n",
    "print('Accuracy of the Siamese Network on the 4-classes test average: %2d %%' % (\n",
    "    100 * correct / total))\n"
   ]
  },
  {
   "cell_type": "markdown",
   "id": "e4f9a422",
   "metadata": {},
   "source": [
    "查看模型在每个类别上的分类准确率"
   ]
  },
  {
   "cell_type": "code",
   "execution_count": 7,
   "id": "e75d0787",
   "metadata": {},
   "outputs": [
    {
     "name": "stdout",
     "output_type": "stream",
     "text": [
      "Accuracy of left  hand     0 : 86 %\n",
      "Accuracy of right hand     1 : 89 %\n",
      "Accuracy of feet           2 : 88 %\n",
      "Accuracy of tongue         3 : 90 %\n",
      "0.8873000000000001\n"
     ]
    }
   ],
   "source": [
    "# 初始化\n",
    "class_corrects = list(0. for idx in range(4))\n",
    "class_total = list(0. for idx in range(4))\n",
    "\n",
    "targets = torch.tensor([0,1,2,3])\n",
    "classes = ('0', '1', '2', '3')\n",
    "\n",
    "\n",
    "for idx, data in enumerate(test_dataloader,0):\n",
    "    x0, x1, target = data\n",
    "    output1, output2 = net(x0, x1)\n",
    "    output = output1-output2\n",
    "    _, predicted = torch.max(output, 1)\n",
    "    c = (predicted == target)\n",
    "    c = torch.tensor([False, False, False, False])\n",
    "    for idx in range(4):\n",
    "        label = targets[idx]\n",
    "        class_corrects[label] += c[idx].item()\n",
    "        class_total[label] += 1\n",
    "\n",
    "for i in range(1):\n",
    "    print('Accuracy of left  hand %5s : %2d %%' % (\n",
    "        classes[0], 100 * class_correct[0] / class_total[0])) \n",
    "    print('Accuracy of right hand %5s : %2d %%' % (\n",
    "        classes[1], 100 * class_correct[1] / class_total[1]))\n",
    "    print('Accuracy of feet       %5s : %2d %%' % (\n",
    "        classes[2], 100 * class_correct[2] / class_total[2]))\n",
    "    print('Accuracy of tongue     %5s : %2d %%' % (\n",
    "        classes[3], 100 * class_correct[3] / class_total[3])) \n",
    "    print((class_correct[0]+class_correct[1]+class_correct[2]+class_correct[3]) / (class_total[0]+class_total[1]+class_total[2]+class_total[3]))                 "
   ]
  },
  {
   "cell_type": "code",
   "execution_count": null,
   "id": "671081c0",
   "metadata": {},
   "outputs": [],
   "source": [
    "for epoch in range(0, Config.train_number_epochs):\n",
    "    for idx, data in enumerate(test_dataloader,0):\n",
    "        x0, x1, target = data\n",
    "        output1, output2 = net(x0, x1)\n",
    "        euclidean_distance = F.pairwise_distance(output1, output2)\n",
    "        similarity = 1- euclidean_distance.item()\n",
    "        # imshow(torchvision.utils.make_grid(concatenated), 'Similarity: {:.2f}'.format(similarity))\n",
    "        df.loc[idx] = [target.item(), similarity]\n",
    "\n",
    "        output = output1-output2\n",
    "        predicted=torch.argmax(output, 1)\n",
    "        train_correct += (predicted == target).sum().item()\n",
    "        total+=target.size(0)\n",
    "        train_accuracy = train_correct / total\n",
    "        train_accuracy = np.array(train_accuracy)\n",
    "        if idx % 10 == 0:\n",
    "                print(\"Epoch number {}\\n Current Accuracy {}\\n\".format(epoch,  train_accuracy.item()))\n",
    "        iteration_number += 1\n",
    "        counter.append(iteration_number)\n",
    "            \n",
    "        accuracy_history.append(train_accuracy.item())\n",
    "        \n",
    "                  \n",
    "show_plot(counter, accuracy_history)\n"
   ]
  },
  {
   "cell_type": "code",
   "execution_count": null,
   "id": "08333568",
   "metadata": {},
   "outputs": [],
   "source": [
    "  "
   ]
  }
 ],
 "metadata": {
  "kernelspec": {
   "display_name": "Python 3.8.8 ('base')",
   "language": "python",
   "name": "python3"
  },
  "language_info": {
   "codemirror_mode": {
    "name": "ipython",
    "version": 3
   },
   "file_extension": ".py",
   "mimetype": "text/x-python",
   "name": "python",
   "nbconvert_exporter": "python",
   "pygments_lexer": "ipython3",
   "version": "3.8.8"
  },
  "vscode": {
   "interpreter": {
    "hash": "5179d32cf6ec497baf3f8a3ef987cc77c5d2dc691fdde20a56316522f61a7323"
   }
  }
 },
 "nbformat": 4,
 "nbformat_minor": 5
}
