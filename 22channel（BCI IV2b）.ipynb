{
 "cells": [
  {
   "cell_type": "code",
   "execution_count": 4,
   "id": "364a69fc-2942-4006-b0ed-707bfa3cf61f",
   "metadata": {},
   "outputs": [],
   "source": [
    "import pandas as pd\n",
    "train = pd.read_csv(r'C:\\Users\\19067\\Desktop\\2bcsv\\MI-EEG-B1E.csv', header=None)"
   ]
  },
  {
   "cell_type": "code",
   "execution_count": 5,
   "id": "3402dbf9",
   "metadata": {},
   "outputs": [
    {
     "data": {
      "text/plain": [
       "(320, 3000)"
      ]
     },
     "execution_count": 5,
     "metadata": {},
     "output_type": "execute_result"
    }
   ],
   "source": [
    "import numpy as np\n",
    "a = np.array(train)\n",
    "a.shape"
   ]
  },
  {
   "cell_type": "markdown",
   "id": "a90635de",
   "metadata": {},
   "source": [
    "1、提取每一个通道数据，并保存为 1 个channel 1 行，长度为288000的csv数据\n",
    "通道    \n",
    "1   1-288                    0-1000\n",
    "2    289-576            1000-2000\n",
    "3   577-864             2000-3000\n",
    "4   865-1152                 3-4\n",
    "5   1153-1440               4-5\n",
    "6   1441-1728               5-6\n",
    "7   1729-2016               6-7\n",
    "8   2017-2304   -  C3     7-8\n",
    "9  2305-2592                8-9\n",
    "10  2593-2880  -  CZ     9-10\n",
    "11  2881-3168              10-11\n",
    "12 3169-3456   -  C4    11-12\n",
    "13 3457-3744                12-13\n",
    "14  3745-4032               13-14\n",
    "15  4033-4320               14-15\n",
    "16  4321-4608               15-16\n",
    "17 4609-4896                 16-17\n",
    "18  4897-5184                 17-18\n",
    "19 5185-5472                 18-19\n",
    "20  5473-5760                19-20\n",
    "21  5761-6048                 20-21\n",
    "22  6049-6336                21-22"
   ]
  },
  {
   "cell_type": "code",
   "execution_count": 2,
   "id": "14caf9df-b8f3-400c-bee5-187abe105b42",
   "metadata": {},
   "outputs": [
    {
     "data": {
      "text/plain": [
       "(288, 22000)"
      ]
     },
     "execution_count": 2,
     "metadata": {},
     "output_type": "execute_result"
    }
   ],
   "source": [
    "import numpy as np\n",
    "a = np.array(train)\n",
    "a.shape"
   ]
  },
  {
   "cell_type": "code",
   "execution_count": 66,
   "id": "d4da4b24-5b7a-42c3-997a-c6d5301b4706",
   "metadata": {},
   "outputs": [],
   "source": [
    "reshape_a = a.reshape(1,288000)\n",
    "b=pd.DataFrame(reshape_a)\n",
    "b.to_csv(r'C:\\Users\\19067\\Desktop\\2a csv\\mydata22\\A01-c22-test.csv',index=None)"
   ]
  },
  {
   "cell_type": "markdown",
   "id": "c3cdcd3c",
   "metadata": {},
   "source": [
    "1.1 提取完22个文件数据，然后将22个文件依次合并为一个文件"
   ]
  },
  {
   "cell_type": "code",
   "execution_count": 67,
   "id": "8fb7d097-ff6f-46c5-bd20-76e3a2db2289",
   "metadata": {},
   "outputs": [
    {
     "name": "stdout",
     "output_type": "stream",
     "text": [
      "(22, 288000)\n"
     ]
    }
   ],
   "source": [
    "import pandas as pd\n",
    "a = pd.read_csv(r'C:\\Users\\19067\\Desktop\\2a csv\\mydata22\\A01-c1-test.csv')\n",
    "b = pd.read_csv(r'C:\\Users\\19067\\Desktop\\2a csv\\mydata22\\A01-c2-test.csv')\n",
    "c = pd.read_csv(r'C:\\Users\\19067\\Desktop\\2a csv\\mydata22\\A01-c3-test.csv')\n",
    "d = pd.read_csv(r'C:\\Users\\19067\\Desktop\\2a csv\\mydata22\\A01-c4-test.csv')\n",
    "e = pd.read_csv(r'C:\\Users\\19067\\Desktop\\2a csv\\mydata22\\A01-c5-test.csv')\n",
    "f = pd.read_csv(r'C:\\Users\\19067\\Desktop\\2a csv\\mydata22\\A01-c6-test.csv')\n",
    "g = pd.read_csv(r'C:\\Users\\19067\\Desktop\\2a csv\\mydata22\\A01-c7-test.csv')\n",
    "h = pd.read_csv(r'C:\\Users\\19067\\Desktop\\2a csv\\mydata22\\A01-c8-test.csv')\n",
    "r = pd.read_csv(r'C:\\Users\\19067\\Desktop\\2a csv\\mydata22\\A01-c9-test.csv')\n",
    "g = pd.read_csv(r'C:\\Users\\19067\\Desktop\\2a csv\\mydata22\\A01-c10-test.csv')\n",
    "k = pd.read_csv(r'C:\\Users\\19067\\Desktop\\2a csv\\mydata22\\A01-c11-test.csv')\n",
    "l = pd.read_csv(r'C:\\Users\\19067\\Desktop\\2a csv\\mydata22\\A01-c12-test.csv')\n",
    "m = pd.read_csv(r'C:\\Users\\19067\\Desktop\\2a csv\\mydata22\\A01-c13-test.csv')\n",
    "n = pd.read_csv(r'C:\\Users\\19067\\Desktop\\2a csv\\mydata22\\A01-c14-test.csv')\n",
    "o = pd.read_csv(r'C:\\Users\\19067\\Desktop\\2a csv\\mydata22\\A01-c15-test.csv')\n",
    "p = pd.read_csv(r'C:\\Users\\19067\\Desktop\\2a csv\\mydata22\\A01-c16-test.csv')\n",
    "q = pd.read_csv(r'C:\\Users\\19067\\Desktop\\2a csv\\mydata22\\A01-c17-test.csv')\n",
    "R = pd.read_csv(r'C:\\Users\\19067\\Desktop\\2a csv\\mydata22\\A01-c18-test.csv')\n",
    "s = pd.read_csv(r'C:\\Users\\19067\\Desktop\\2a csv\\mydata22\\A01-c19-test.csv')\n",
    "t = pd.read_csv(r'C:\\Users\\19067\\Desktop\\2a csv\\mydata22\\A01-c20-test.csv')\n",
    "u = pd.read_csv(r'C:\\Users\\19067\\Desktop\\2a csv\\mydata22\\A01-c21-test.csv')\n",
    "v = pd.read_csv(r'C:\\Users\\19067\\Desktop\\2a csv\\mydata22\\A01-c22-test.csv')\n",
    "P = pd.concat([a,b,c,d,e,f,g,h,r,g,k,l,m,n,o,p,q,R,s,t,u,v])\n",
    "\n",
    "\n",
    "P.to_csv(r'C:\\Users\\19067\\Desktop\\2a csv\\mydata22\\A01_channel22_test.csv',index=False, header=False)\n",
    "print(P.shape)"
   ]
  },
  {
   "cell_type": "markdown",
   "id": "4782ff91",
   "metadata": {},
   "source": [
    "2、得到2维数据，下面进行训练数据的预处理（x_train数据归一化，y_train标签的独热编码），然后依据数据的高度进行重塑为3维数据。\n"
   ]
  },
  {
   "cell_type": "code",
   "execution_count": 68,
   "id": "8fb5acf5",
   "metadata": {},
   "outputs": [
    {
     "name": "stdout",
     "output_type": "stream",
     "text": [
      "(22, 288000)\n"
     ]
    }
   ],
   "source": [
    "import pandas as pd\n",
    "x_train = pd.read_csv(r'C:\\Users\\19067\\Desktop\\2a csv\\mydata22\\A01_channel22_train.csv', header=None)  #读取的时候一定要加上header，不加的话会将第一行作为header而shape少一行\n",
    "print(x_train.shape)"
   ]
  },
  {
   "cell_type": "markdown",
   "id": "0f65e5ca",
   "metadata": {},
   "source": [
    "2.1 得到重塑数据22的依据"
   ]
  },
  {
   "cell_type": "code",
   "execution_count": 70,
   "id": "4708bd86",
   "metadata": {},
   "outputs": [
    {
     "name": "stdout",
     "output_type": "stream",
     "text": [
      "n_samples_train: 22\n"
     ]
    }
   ],
   "source": [
    "n_samples_train = len(x_train)\n",
    "print(\"n_samples_train:\", n_samples_train)"
   ]
  },
  {
   "cell_type": "markdown",
   "id": "a57b82bc",
   "metadata": {},
   "source": [
    "2.2 缩放数据，使它们的均值 = 0，标准差 = 1（数据归一化）"
   ]
  },
  {
   "cell_type": "code",
   "execution_count": 71,
   "id": "90ea5c2b",
   "metadata": {},
   "outputs": [],
   "source": [
    "\n",
    "from sklearn.preprocessing import StandardScaler, LabelEncoder\n",
    "\n",
    "scaler = StandardScaler().fit(x_train)\n",
    "# 定义一个新的train\n",
    "x_train = scaler.transform(x_train)"
   ]
  },
  {
   "cell_type": "code",
   "execution_count": 1,
   "id": "a43cb39d",
   "metadata": {},
   "outputs": [
    {
     "name": "stdout",
     "output_type": "stream",
     "text": [
      "(288, 1)\n"
     ]
    }
   ],
   "source": [
    "import pandas as pd\n",
    "y_train = pd.read_csv(r'C:\\Users\\19067\\Desktop\\2a csv\\EtiquetasA01T.csv')\n",
    "print(y_train.shape)"
   ]
  },
  {
   "cell_type": "markdown",
   "id": "2d36a4af",
   "metadata": {},
   "source": [
    "2.3 查看一下我们要做的是几分类工作，并且对标签进行编码"
   ]
  },
  {
   "cell_type": "code",
   "execution_count": 2,
   "id": "70cd3c20",
   "metadata": {},
   "outputs": [
    {
     "name": "stdout",
     "output_type": "stream",
     "text": [
      "n_classes: 4\n"
     ]
    }
   ],
   "source": [
    "import numpy as np\n",
    "n_classes = len(np.unique(y_train)) #esto se podria calcular asi n_clases = len(np.unique(y)), la y puede ser train o test\n",
    "\n",
    "print(\"n_classes:\", n_classes)"
   ]
  },
  {
   "cell_type": "code",
   "execution_count": 3,
   "id": "30288cab",
   "metadata": {},
   "outputs": [
    {
     "name": "stderr",
     "output_type": "stream",
     "text": [
      "d:\\anaconda\\lib\\site-packages\\sklearn\\utils\\validation.py:63: DataConversionWarning: A column-vector y was passed when a 1d array was expected. Please change the shape of y to (n_samples, ), for example using ravel().\n",
      "  return f(*args, **kwargs)\n"
     ]
    }
   ],
   "source": [
    "#使用从 0 到 nClasses-1 的值对标签进行编码\n",
    "from sklearn.preprocessing import StandardScaler, LabelEncoder\n",
    "le = LabelEncoder().fit(y_train)\n",
    "y_train = le.transform(y_train)\n"
   ]
  },
  {
   "cell_type": "code",
   "execution_count": 5,
   "id": "abfef2e0",
   "metadata": {},
   "outputs": [
    {
     "name": "stdout",
     "output_type": "stream",
     "text": [
      "[3 2 1 0 0 1 2 3 1 2 0 0 0 3 1 1 0 0 2 0 1 3 3 2 0 3 3 1 3 3 1 0 1 2 2 2 3\n",
      " 2 0 3 1 2 1 2 3 1 2 0 0 0 3 1 0 2 0 2 1 3 0 2 2 0 2 1 3 3 3 2 0 3 1 3 1 0\n",
      " 2 1 0 2 2 0 2 3 3 1 0 1 3 1 3 2 1 1 1 2 3 0 1 3 0 2 2 3 0 0 2 1 3 3 3 1 0\n",
      " 2 1 3 0 3 2 1 3 3 0 1 1 2 3 1 0 0 3 1 0 2 1 1 2 0 3 2 2 2 2 0 1 0 1 0 0 2\n",
      " 2 1 2 3 0 3 0 0 1 3 2 1 3 2 3 2 3 1 1 3 0 1 1 1 2 3 0 3 0 2 0 3 0 2 0 1 2\n",
      " 2 3 0 1 3 1 2 2 0 3 1 3 0 0 2 2 1 3 1 1 0 1 3 3 1 1 1 1 3 3 2 3 0 1 2 1 0\n",
      " 3 0 3 0 0 0 0 2 2 3 1 2 2 2 3 2 0 2 0 3 1 3 3 2 3 3 2 1 3 2 0 1 1 1 2 1 3\n",
      " 2 3 1 2 0 3 0 2 3 0 2 0 1 1 0 3 0 3 2 2 0 2 1 1 0 2 0 1 0]\n"
     ]
    }
   ],
   "source": [
    "print(y_train)"
   ]
  },
  {
   "cell_type": "code",
   "execution_count": 8,
   "id": "de325ecb",
   "metadata": {},
   "outputs": [],
   "source": [
    "b=pd.DataFrame(y_train)\n",
    "b.to_csv(r'C:\\Users\\19067\\Desktop\\2a csv\\mydata22\\A01train22-Labelencoder.csv',index=None)"
   ]
  },
  {
   "cell_type": "markdown",
   "id": "44bc9bb2",
   "metadata": {},
   "source": [
    "2.4 重塑数据为（22,288,1000）"
   ]
  },
  {
   "cell_type": "code",
   "execution_count": 76,
   "id": "4d091dcc",
   "metadata": {},
   "outputs": [
    {
     "name": "stdout",
     "output_type": "stream",
     "text": [
      "(22, 288, 1000)\n"
     ]
    }
   ],
   "source": [
    "x_train = x_train.reshape((n_samples_train, 288, 1000))\n",
    "\n",
    "print(x_train.shape)"
   ]
  },
  {
   "cell_type": "markdown",
   "id": "61552cb7",
   "metadata": {},
   "source": [
    "3、保存新的数据以及标签"
   ]
  },
  {
   "cell_type": "code",
   "execution_count": 77,
   "id": "e2e300c7",
   "metadata": {},
   "outputs": [],
   "source": [
    "import torch\n",
    "x_train_data = torch.save(x_train, \"./A01_test_22channel.pt\")"
   ]
  },
  {
   "cell_type": "code",
   "execution_count": 78,
   "id": "def25916",
   "metadata": {},
   "outputs": [],
   "source": [
    "a = np.array(y_train)\n",
    "b = pd.DataFrame(a)\n",
    "label = b.to_csv(r'C:\\Users\\19067\\Desktop\\2a csv\\mydata22\\A01_test_22label.csv',header=None)"
   ]
  },
  {
   "cell_type": "code",
   "execution_count": 80,
   "id": "dbbfac94",
   "metadata": {},
   "outputs": [
    {
     "data": {
      "text/plain": [
       "(288, 1)"
      ]
     },
     "execution_count": 80,
     "metadata": {},
     "output_type": "execute_result"
    }
   ],
   "source": [
    "import pandas as pd\n",
    "z = pd.read_csv(r'C:\\Users\\19067\\Desktop\\2a csv\\mydata22\\A01_test_22label.csv',header=None)\n",
    "z.shape"
   ]
  },
  {
   "cell_type": "code",
   "execution_count": 81,
   "id": "b2b924e7",
   "metadata": {},
   "outputs": [],
   "source": [
    "x = torch.save(z, \"./A01_test_22label.pt\")"
   ]
  },
  {
   "cell_type": "code",
   "execution_count": 85,
   "id": "63034b1b",
   "metadata": {},
   "outputs": [
    {
     "data": {
      "text/plain": [
       "torch.Size([1, 288, 1])"
      ]
     },
     "execution_count": 85,
     "metadata": {},
     "output_type": "execute_result"
    }
   ],
   "source": [
    "import numpy as np\n",
    "import torchvision.transforms as transforms\n",
    "transf = transforms.ToTensor()\n",
    "\n",
    "\n",
    "a = torch.load(\"./A01_test_22label.pt\")\n",
    "b = np.array(a)\n",
    "c = transf(b)\n",
    "c.shape"
   ]
  },
  {
   "cell_type": "code",
   "execution_count": 86,
   "id": "af22de2b-832c-4b7b-9bc2-cb69dc661b28",
   "metadata": {},
   "outputs": [],
   "source": [
    "torch.save(c,\"./A01_test_22label.pt\")"
   ]
  },
  {
   "cell_type": "markdown",
   "id": "e9f44787",
   "metadata": {},
   "source": [
    "Train/Test 标签独热编码形式"
   ]
  },
  {
   "cell_type": "code",
   "execution_count": 1,
   "id": "31ac8846-f248-43b7-b32e-132a41f9bd11",
   "metadata": {},
   "outputs": [],
   "source": [
    "from sklearn.preprocessing import OneHotEncoder\n",
    "from sklearn import preprocessing\n",
    "import numpy as np\n",
    "import pandas as pd\n",
    "encoder = preprocessing.OneHotEncoder(handle_unknown='ignore')\n",
    "x = pd.read_csv(r'C:\\Users\\19067\\Desktop\\2a csv\\EtiquetasA01E.csv')\n",
    "\n",
    "y = np.array(x)\n",
    "y = y.reshape(-1,1)\n",
    "encoder.fit(y)\n",
    "y_oh = encoder.transform(y).toarray()"
   ]
  },
  {
   "cell_type": "code",
   "execution_count": 2,
   "id": "980fe5ce",
   "metadata": {},
   "outputs": [
    {
     "name": "stdout",
     "output_type": "stream",
     "text": [
      "[[1. 0. 0. 0.]\n",
      " [0. 1. 0. 0.]\n",
      " [0. 1. 0. 0.]\n",
      " ...\n",
      " [0. 0. 1. 0.]\n",
      " [1. 0. 0. 0.]\n",
      " [0. 0. 1. 0.]] (288, 4)\n"
     ]
    }
   ],
   "source": [
    "print(y_oh,y_oh.shape)"
   ]
  },
  {
   "cell_type": "code",
   "execution_count": 3,
   "id": "eaa21427",
   "metadata": {},
   "outputs": [],
   "source": [
    "import torch\n",
    "import torchvision.transforms as transforms\n",
    "transf = transforms.ToTensor()\n",
    "d=transf(y_oh)\n",
    "label = torch.argmax(d, dim=2).long()"
   ]
  },
  {
   "cell_type": "code",
   "execution_count": 4,
   "id": "dc37a596",
   "metadata": {},
   "outputs": [
    {
     "name": "stdout",
     "output_type": "stream",
     "text": [
      "torch.Size([1, 288])\n"
     ]
    }
   ],
   "source": [
    "print(label.shape)"
   ]
  },
  {
   "cell_type": "code",
   "execution_count": 6,
   "id": "43ea1adf",
   "metadata": {},
   "outputs": [],
   "source": [
    "import torch\n",
    "\n",
    "a = torch.save(label,\"./A01_test22_one_hot_label.pt\")"
   ]
  },
  {
   "cell_type": "markdown",
   "id": "21984e92",
   "metadata": {},
   "source": [
    "数据输入错误，重新转换为（288,22,1000）的数据：为288个样本（矩阵），每1个矩阵shape是（22*1000）的包含22个通道的信号（变为一个多通道信号）"
   ]
  },
  {
   "cell_type": "code",
   "execution_count": 5,
   "id": "d24e02e6-1993-4345-9c1b-c03856140705",
   "metadata": {},
   "outputs": [],
   "source": [
    "import torch\n",
    "a = torch.load(\"./A01_test_22channel.pt\")"
   ]
  },
  {
   "cell_type": "code",
   "execution_count": 6,
   "id": "ab2d2602-cd36-4d77-acd2-8b43d877148e",
   "metadata": {},
   "outputs": [
    {
     "data": {
      "text/plain": [
       "(288, 22, 1000)"
      ]
     },
     "execution_count": 6,
     "metadata": {},
     "output_type": "execute_result"
    }
   ],
   "source": [
    "a.shape"
   ]
  },
  {
   "cell_type": "code",
   "execution_count": 7,
   "id": "6eed7012",
   "metadata": {},
   "outputs": [
    {
     "data": {
      "text/plain": [
       "(288, 22, 125, 8)"
      ]
     },
     "execution_count": 7,
     "metadata": {},
     "output_type": "execute_result"
    }
   ],
   "source": [
    "b = a.reshape(288,22,125,8)\n",
    "b.shape"
   ]
  },
  {
   "cell_type": "code",
   "execution_count": 4,
   "id": "bfbf3d93",
   "metadata": {},
   "outputs": [],
   "source": [
    "c = torch.save(b,\"./A01_test_new125.pt\")"
   ]
  },
  {
   "cell_type": "code",
   "execution_count": 14,
   "id": "05738e8c-64b3-4002-a2ea-095360049124",
   "metadata": {},
   "outputs": [
    {
     "data": {
      "text/plain": [
       "(288, 22, 1000)"
      ]
     },
     "execution_count": 14,
     "metadata": {},
     "output_type": "execute_result"
    }
   ],
   "source": [
    "import numpy as np\n",
    "b = np.transpose(a, (1,0,2))\n",
    "b.shape"
   ]
  },
  {
   "cell_type": "code",
   "execution_count": 15,
   "id": "2b6b7a50-de7d-4ca5-a654-d04411993149",
   "metadata": {},
   "outputs": [],
   "source": [
    "c = torch.save(b,\"./A01_test_22channel.pt\")"
   ]
  },
  {
   "cell_type": "code",
   "execution_count": 16,
   "id": "cb02b440",
   "metadata": {},
   "outputs": [
    {
     "data": {
      "text/plain": [
       "torch.Size([288, 1])"
      ]
     },
     "execution_count": 16,
     "metadata": {},
     "output_type": "execute_result"
    }
   ],
   "source": [
    "a = torch.load(\"./A01_test22_one_hot_label.pt\")\n",
    "a.shape"
   ]
  },
  {
   "cell_type": "code",
   "execution_count": 11,
   "id": "cea165c3",
   "metadata": {},
   "outputs": [
    {
     "name": "stdout",
     "output_type": "stream",
     "text": [
      "torch.Size([288, 1])\n"
     ]
    }
   ],
   "source": [
    "b = a.reshape(288,1)\n",
    "print(b.shape)"
   ]
  },
  {
   "cell_type": "code",
   "execution_count": 10,
   "id": "fe0a4600",
   "metadata": {},
   "outputs": [],
   "source": [
    "c = torch.save(b,\"./A01_test22_one_hot_label.pt\")"
   ]
  },
  {
   "cell_type": "markdown",
   "id": "d784c07e",
   "metadata": {},
   "source": [
    "构造每一类别数据为（72,22,1000）"
   ]
  },
  {
   "cell_type": "code",
   "execution_count": 27,
   "id": "cff806c5",
   "metadata": {},
   "outputs": [],
   "source": [
    "import pandas as pd\n",
    "train = pd.read_csv(r'C:\\Users\\19067\\Desktop\\2a\\right.csv', header=None)"
   ]
  },
  {
   "cell_type": "code",
   "execution_count": 28,
   "id": "0a0e1f94",
   "metadata": {},
   "outputs": [
    {
     "data": {
      "text/plain": [
       "(72, 22000)"
      ]
     },
     "execution_count": 28,
     "metadata": {},
     "output_type": "execute_result"
    }
   ],
   "source": [
    "train.shape"
   ]
  },
  {
   "cell_type": "code",
   "execution_count": 29,
   "id": "9dcdca98",
   "metadata": {},
   "outputs": [
    {
     "name": "stdout",
     "output_type": "stream",
     "text": [
      "n_samples_train: 72\n"
     ]
    }
   ],
   "source": [
    "n_samples_train = len(train)\n",
    "print(\"n_samples_train:\", n_samples_train)"
   ]
  },
  {
   "cell_type": "code",
   "execution_count": 30,
   "id": "813c4367",
   "metadata": {},
   "outputs": [
    {
     "name": "stdout",
     "output_type": "stream",
     "text": [
      "(72, 22, 1000)\n"
     ]
    }
   ],
   "source": [
    "import numpy as np\n",
    "x_tongue =  np.array(train)\n",
    "x_tongue = x_tongue.reshape((n_samples_train, 22, 1000))\n",
    "\n",
    "print(x_tongue.shape)"
   ]
  },
  {
   "cell_type": "code",
   "execution_count": 31,
   "id": "f1c000e1",
   "metadata": {},
   "outputs": [],
   "source": [
    "import torch\n",
    "c = torch.save(x_tongue,\"./A01_right.pt\")"
   ]
  },
  {
   "cell_type": "code",
   "execution_count": 32,
   "id": "a6a079b5",
   "metadata": {},
   "outputs": [
    {
     "data": {
      "text/plain": [
       "(72, 22, 1000)"
      ]
     },
     "execution_count": 32,
     "metadata": {},
     "output_type": "execute_result"
    }
   ],
   "source": [
    "a = torch.load(\"./A01_right.pt\")\n",
    "a.shape"
   ]
  }
 ],
 "metadata": {
  "kernelspec": {
   "display_name": "Python 3.8.8 ('base')",
   "language": "python",
   "name": "python3"
  },
  "language_info": {
   "codemirror_mode": {
    "name": "ipython",
    "version": 3
   },
   "file_extension": ".py",
   "mimetype": "text/x-python",
   "name": "python",
   "nbconvert_exporter": "python",
   "pygments_lexer": "ipython3",
   "version": "3.8.8"
  },
  "vscode": {
   "interpreter": {
    "hash": "5179d32cf6ec497baf3f8a3ef987cc77c5d2dc691fdde20a56316522f61a7323"
   }
  }
 },
 "nbformat": 4,
 "nbformat_minor": 5
}
